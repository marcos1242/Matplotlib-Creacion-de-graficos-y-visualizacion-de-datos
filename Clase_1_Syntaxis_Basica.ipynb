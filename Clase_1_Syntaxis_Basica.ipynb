{
  "cells": [
    {
      "cell_type": "markdown",
      "metadata": {
        "id": "view-in-github",
        "colab_type": "text"
      },
      "source": [
        "<a href=\"https://colab.research.google.com/github/marcos1242/Matplotlib-Creacion-de-graficos-y-visualizacion-de-datos/blob/main/Clase_1_Syntaxis_Basica.ipynb\" target=\"_parent\"><img src=\"https://colab.research.google.com/assets/colab-badge.svg\" alt=\"Open In Colab\"/></a>"
      ]
    },
    {
      "cell_type": "markdown",
      "metadata": {
        "id": "BjnEgRGRi5lX"
      },
      "source": [
        "  # Algoritmos y Estructuras de Datos.\n",
        "\n",
        "## - Clase 1 - Parte 1 - Syntaxis Basica de Python -"
      ]
    },
    {
      "cell_type": "markdown",
      "metadata": {
        "id": "D1G1aIPli5lc"
      },
      "source": [
        "### Cuerpo Docente\n",
        "-  Dr. Diego Agustín Ambrossio.\n",
        "\n",
        "\n",
        "**Día/Horario :**          \n",
        "- Martes 18h00 - 22h00.\n",
        "- Jueves 18h00 - 22h00.\n",
        "\n",
        "\n",
        "Material adaptado de la cátedra \"Introduction to Programming\" de la Université du Luxembourg.\n",
        "\n",
        "Gracias a mis estimados colegas Dr. Giovanni Casini (ISTI-CNR) y Dr. Xavier Parent (TU Wien)!!\n"
      ]
    },
    {
      "cell_type": "markdown",
      "metadata": {
        "id": "Cuvq8HmQi5ld"
      },
      "source": [
        "### Resumen:\n",
        "\n",
        "Estudiaremos distintas estructuras de datos y cómo programar algoritmos para hacer uso eficientes de ellas. Utilizando el lenguaje de programación Python, haremos foco en la programación procedural, introduciendo algunos conceptos de la progrmación Orientada a Objetos. Finalmente, cómo optimizar algunos typos de algoritmos particulares.  \n",
        "\n",
        "Algunos de los temas a estudiar:\n",
        "\n",
        "- Estructuras de Datos.\n",
        "- Recursividad.\n",
        "- Objetos en Python.\n",
        "- Algoritmos de Ordenamiento y Busqueda.\n",
        "- Archivos.\n",
        "- Complejidad Computacional.\n",
        "- Nociones de Computabilidad, Verificación y Validación.  \n",
        "\n",
        "El material de la cáterda y todos los recursos necesarios estarán disponibles en el Campus Virtual."
      ]
    },
    {
      "cell_type": "markdown",
      "metadata": {
        "id": "KO55Zmnqi5le"
      },
      "source": [
        "## Evaluación\n",
        "### General\n",
        "\n",
        "-  2 Examenes Parciales\n",
        "-  Ejercicios de entrega obligatoria.\n",
        "-  Trabajos Grupales.\n",
        "\n",
        "### Aprobación:\n",
        "- Calificación de 4 (cuatro) o más, en los examenes parciales.\n",
        "\n",
        "### Promoción\n",
        "- Calificación de 6 o más en cada examen parcial **y** un promedio general superior a 7."
      ]
    },
    {
      "cell_type": "markdown",
      "metadata": {
        "id": "s_ON-Zfvi5lf"
      },
      "source": [
        "---"
      ]
    },
    {
      "cell_type": "markdown",
      "metadata": {
        "id": "6oDzF606i5lg"
      },
      "source": [
        "# Operaciones Simples en Python"
      ]
    },
    {
      "cell_type": "markdown",
      "metadata": {
        "id": "aOB6jED-i5lg"
      },
      "source": [
        "### Operaciones Aritmenticas"
      ]
    },
    {
      "cell_type": "code",
      "execution_count": null,
      "metadata": {
        "colab": {
          "base_uri": "https://localhost:8080/"
        },
        "id": "xAWMK275i5lh",
        "outputId": "dc7af2d4-b158-4500-9eab-c44035e1b87b"
      },
      "outputs": [
        {
          "output_type": "execute_result",
          "data": {
            "text/plain": [
              "8"
            ]
          },
          "metadata": {},
          "execution_count": 1
        }
      ],
      "source": [
        "2 + 6 # Suma"
      ]
    },
    {
      "cell_type": "code",
      "execution_count": null,
      "metadata": {
        "id": "OUL8sHaTi5lj",
        "scrolled": true,
        "outputId": "559a2da1-329d-4e1c-e1fc-0d7fd06a5310",
        "colab": {
          "base_uri": "https://localhost:8080/"
        }
      },
      "outputs": [
        {
          "output_type": "execute_result",
          "data": {
            "text/plain": [
              "-17"
            ]
          },
          "metadata": {},
          "execution_count": 2
        }
      ],
      "source": [
        "2 - 19 # Resta"
      ]
    },
    {
      "cell_type": "code",
      "execution_count": null,
      "metadata": {
        "id": "JB3HcchEi5lk"
      },
      "outputs": [],
      "source": [
        "2 * 27 # Multiplicación"
      ]
    },
    {
      "cell_type": "code",
      "execution_count": null,
      "metadata": {
        "id": "Kedaf-nni5lk"
      },
      "outputs": [],
      "source": [
        "165 / 10 # Divición."
      ]
    },
    {
      "cell_type": "code",
      "execution_count": null,
      "metadata": {
        "id": "jw7B2hkIi5lk"
      },
      "outputs": [],
      "source": [
        "165 // 10 # Cociente de la divición Euclidiana (parte entera)"
      ]
    },
    {
      "cell_type": "code",
      "execution_count": null,
      "metadata": {
        "id": "vYAJMTg_i5ll"
      },
      "outputs": [],
      "source": [
        "165 % 10 # Resto de la divición Euclidiana."
      ]
    },
    {
      "cell_type": "code",
      "execution_count": null,
      "metadata": {
        "id": "WvcFj1o3i5ll"
      },
      "outputs": [],
      "source": [
        "3 ** 2 # Potencia\n",
        "3 ** (1/2)"
      ]
    },
    {
      "cell_type": "markdown",
      "metadata": {
        "id": "8Ab_uyf5i5ll"
      },
      "source": [
        "### Operaciones Lógicas\n",
        "\n",
        "Las operaciones lógicas nos devulven un *\"Valor de Verdad\"* como resultado.\n",
        "- **Verdadero** $\\Rightarrow$ $\\normalsize \\color{green}{\\textsf{ True }}$  \n",
        "- **Falso** $\\Rightarrow$ $\\normalsize \\color{green}{\\textsf{ False }}$"
      ]
    },
    {
      "cell_type": "code",
      "execution_count": null,
      "metadata": {
        "id": "a7BNKsezi5lm"
      },
      "outputs": [],
      "source": [
        "1 == 2 # Igualdad"
      ]
    },
    {
      "cell_type": "code",
      "execution_count": null,
      "metadata": {
        "id": "mau_-ftqi5lm"
      },
      "outputs": [],
      "source": [
        "1 != 2 # Desigualdad"
      ]
    },
    {
      "cell_type": "code",
      "execution_count": null,
      "metadata": {
        "id": "XQtvun6ri5ln"
      },
      "outputs": [],
      "source": [
        "1 < 2 # menor\n",
        "1 > 2 # mayor\n",
        "1 <= 2 # menor o igual\n",
        "# 1 >= 2 # mayor o igual"
      ]
    },
    {
      "cell_type": "code",
      "execution_count": null,
      "metadata": {
        "id": "Sub0TXnGi5ln"
      },
      "outputs": [],
      "source": [
        "not(True) # El operador lógico de \"NEGACIÓN\"\n",
        "True and False # El operador lógico \"Y\"\n",
        "True or False # El operador lógico \"O\""
      ]
    },
    {
      "cell_type": "markdown",
      "metadata": {
        "id": "H-YFwb8bi5ln"
      },
      "source": [
        "El operador \"<code>or</code>\" (cómo muchas de las funciones en Python) esta optimizado. Si queremos evaluar la expresión\n",
        "$P_1$ <code>or</code> $P_2$ y $P_1$ es verdadera, entonces $P_1$ <code>or</code> $P_2$ tiene como resultado final \"verdadero\" ($\\normalsize \\color{green}{\\textsf{True}}$) aun antes de evaluar $P_2$, decimos que el operador <code>or</code> es *\"corto alcanze\"*, o *\"lazy\"* (peresozo),"
      ]
    },
    {
      "cell_type": "code",
      "execution_count": null,
      "metadata": {
        "id": "WTALwyRfi5lo"
      },
      "outputs": [],
      "source": [
        "# No tiene sentido, la varialbe 'var' no esta definida.\n",
        "# Ejecutar esta linea nos generara un error.\n",
        "\n",
        "var == True #"
      ]
    },
    {
      "cell_type": "code",
      "execution_count": null,
      "metadata": {
        "id": "ZZt8xf1Li5lo"
      },
      "outputs": [],
      "source": [
        "# En el siguiente caso 1 == 1 es verdadero,\n",
        "# el operador 'or' no evaluara la parte var==True\n",
        "# (no nos aparece el error)\n",
        "\n",
        "1 == 1 or var == True"
      ]
    },
    {
      "cell_type": "code",
      "execution_count": null,
      "metadata": {
        "id": "JOQEDpK4i5lo"
      },
      "outputs": [],
      "source": [
        "# En el siguiente caso var==True nos genera un error,\n",
        "# y el programa finaliza.\n",
        "\n",
        "var == True or 1 == 1"
      ]
    },
    {
      "cell_type": "markdown",
      "metadata": {
        "id": "7bD6Oqg1i5lp"
      },
      "source": [
        "# Estructura de un algoritmo en Pythom\n",
        "\n",
        "- Asignaciones\n",
        "- Sentencias\n",
        "- Decisión\n",
        "- Repeticiones\n",
        "- Iteraciones"
      ]
    },
    {
      "cell_type": "markdown",
      "metadata": {
        "id": "awnif_NQi5lp"
      },
      "source": [
        "# Assignación y tipos de variales en Python."
      ]
    },
    {
      "cell_type": "markdown",
      "metadata": {
        "id": "58pnBaRUi5lq"
      },
      "source": [
        "Como en cualquier otro lenguaje de programación, podemos asignar valores a un **\"nombre de variable\"**.\n",
        "Un *nombre de variable*, es un identificador alphanumerico el cual esta asociado a un espacio de memoria.\n",
        "\n",
        "En Python utilizamos el symbolo <code>=</code>. (en contraste con el operador <code>==</code>).  "
      ]
    },
    {
      "cell_type": "code",
      "execution_count": null,
      "metadata": {
        "id": "U8uXAq4Ni5lq"
      },
      "outputs": [],
      "source": [
        "n_entero = 5                            # Un número entero\n",
        "n_con_comma = 0.3                       # Un número de punto flotante\n",
        "v_bool = True                           # Un valor Booleano, verdadero o falso (True o False respectivamente)\n",
        "cad_de_caract = 'cadena de caracteres'  # Una cadena de caracteres (string), una palabra o frase entre \" \" o ' '.\n",
        "complejo= 1 + 1j                        # Un número complejo (escribimos j, en vez del tradicional i, para la parte imaginaria)\n"
      ]
    },
    {
      "cell_type": "markdown",
      "metadata": {
        "id": "RmTJ3ywci5lq"
      },
      "source": [
        "\n",
        "Cada **valor** que le asignamos a una variable, tiene asignado un **tipo**, el cual definira el tipo de la variable a cual el valor es asignado. Es decir, en Python el tipo de una variable es asignado dinamicamente durante la ejecución del programa, dependiendo del valor contenido.  \n",
        "\n",
        "Nota: la función <code>print()</code> nos permite escribir en la pantalla/consola.\n"
      ]
    },
    {
      "cell_type": "code",
      "execution_count": null,
      "metadata": {
        "id": "Ps9Dp1qNi5lr"
      },
      "outputs": [],
      "source": [
        "print(type(1))         # es del tipo int'\n",
        "print(type(n_con_comma))      # es del tipo 'float'\n",
        "print(type(v_bool))           # es del tipo 'bool'\n",
        "print(type(cad_de_caract))    # es del tipo 'str'\n",
        "print(type(complejo))         # es del tipo 'complex'"
      ]
    },
    {
      "cell_type": "markdown",
      "metadata": {
        "id": "MZqZKYV5i5lr"
      },
      "source": [
        "El symbolo de igualdad--que utilizamos para realizar asignaciones--no es un operador symetrico.\n",
        "\n",
        "Es decir $v_1 = v_2$ no es lo mismo que $v_2 = v_1$."
      ]
    },
    {
      "cell_type": "code",
      "execution_count": 6,
      "metadata": {
        "id": "JgRPDY1Fi5lr",
        "outputId": "981651c1-6b02-46be-d619-5fab9f4ccd7e",
        "colab": {
          "base_uri": "https://localhost:8080/"
        }
      },
      "outputs": [
        {
          "output_type": "stream",
          "name": "stdout",
          "text": [
            "v1=  3\n",
            "v2=  3\n",
            "v1=  2\n",
            "v2=  2\n"
          ]
        }
      ],
      "source": [
        "v1 = 2\n",
        "v2 = 3\n",
        "v1 = v2            # v1 toma el valor de v2\n",
        "print(\"v1= \",v1)\n",
        "print(\"v2= \",v2)\n",
        "\n",
        "v1 = 2\n",
        "v2 = 3\n",
        "v2 = v1            # v2 toma el valor de v1\n",
        "print(\"v1= \",v1)\n",
        "print(\"v2= \",v2)"
      ]
    },
    {
      "cell_type": "markdown",
      "metadata": {
        "id": "QnHZwQfxi5lr"
      },
      "source": [
        "\n",
        "Los operadores <code>+=</code>, <code>-=</code>, <code>*=</code>, etc. nos permiten realizar operaciones sobre una variable sin tener que nombrarla dos veces.    \n"
      ]
    },
    {
      "cell_type": "code",
      "execution_count": 9,
      "metadata": {
        "id": "GcAHpiV0i5ls",
        "outputId": "6507709b-64b3-4a34-df15-2452fbdd6317",
        "colab": {
          "base_uri": "https://localhost:8080/"
        }
      },
      "outputs": [
        {
          "output_type": "stream",
          "name": "stdout",
          "text": [
            "4\n",
            "8\n"
          ]
        }
      ],
      "source": [
        "v1 = 1\n",
        "\n",
        "v1 += 3 # Incrementamos sobre v1. Es equivalente a escribir  \"v1 = v1 + 3\"\n",
        "        # Este metodo es mas eficiente y facil de escribir.\n",
        "print(v1)\n",
        "\n",
        "v1 *= 2 # También funciona con *=\n",
        "\n",
        "print(v1)"
      ]
    },
    {
      "cell_type": "markdown",
      "metadata": {
        "id": "R0l2PzN7i5ls"
      },
      "source": [
        "Python nos permite realizar asignaciones multiples, dado un conjunto de variables les podremos asignar distintos valores a cada una."
      ]
    },
    {
      "cell_type": "code",
      "execution_count": 10,
      "metadata": {
        "id": "vvww6YRMi5ls",
        "scrolled": true,
        "outputId": "83c4dc8d-1e75-4bb2-fb43-5647161b7493",
        "colab": {
          "base_uri": "https://localhost:8080/"
        }
      },
      "outputs": [
        {
          "output_type": "stream",
          "name": "stdout",
          "text": [
            "2 3\n"
          ]
        }
      ],
      "source": [
        "# Asignación Multiple. El orden de los parametros es importante!\n",
        "\n",
        "v1, v2 = 2, 3\n",
        "\n",
        "#EQUIVALENTE:\n",
        "#v1 = 2\n",
        "#v2 = 3\n",
        "\n",
        "print (v1,v2)"
      ]
    },
    {
      "cell_type": "code",
      "execution_count": 11,
      "metadata": {
        "id": "si6BZBODi5ls",
        "outputId": "956eea6a-8892-4255-b42a-1920c5a3c908",
        "colab": {
          "base_uri": "https://localhost:8080/"
        }
      },
      "outputs": [
        {
          "output_type": "stream",
          "name": "stdout",
          "text": [
            "v1=  3\n",
            "v2=  150\n"
          ]
        }
      ],
      "source": [
        "v1 = 150\n",
        "v2 = 3\n",
        "\n",
        "# Python nos permite intercambiar los valores de las variables fácilmente\n",
        "# mediante el uso de asignación multiple\n",
        "\n",
        "v1 , v2  = v2 , v1\n",
        "\n",
        "#EQUIVALENTE:\n",
        "# v3 = v1\n",
        "# v1 = v2\n",
        "# v2 = v3\n",
        "\n",
        "print(\"v1= \",v1)\n",
        "print(\"v2= \",v2)"
      ]
    },
    {
      "cell_type": "markdown",
      "metadata": {
        "id": "CYrG-KxGi5lw"
      },
      "source": [
        "## Tipos de Variable"
      ]
    },
    {
      "cell_type": "markdown",
      "metadata": {
        "id": "1lyjGLOgi5lw"
      },
      "source": [
        "\n",
        "El ***tipo*** de una variable es importante. Siempre debemos recordar cuales son los tipos de las variables que hemos definido, ya que <b><u>Python no provee ninguna forma de fijar el tipo de una variable</u></b>.\n",
        "\n",
        "\n",
        "Python nos provee funciones para cambiar el tipo de una variable. Si queremos cambiar el tipo de la variable <code>v</code> al tipo <code>ftype</code>, utilizamos el siguiente comando <code>v = ftype(v)</code>.\n",
        "\n",
        "\n",
        "El resultado dependera del tipo de la variable que queremos transformar, e.g. si convertimos una variable de punto flotatante a un entero utilizando la función <code>int()</code>, solo obtendremos la parte entera de la variable.\n"
      ]
    },
    {
      "cell_type": "code",
      "execution_count": 19,
      "metadata": {
        "id": "gGQOF8uWi5lx",
        "outputId": "be2a60dd-e5b3-49e8-c328-b68fbece205d",
        "colab": {
          "base_uri": "https://localhost:8080/"
        }
      },
      "outputs": [
        {
          "output_type": "stream",
          "name": "stdout",
          "text": [
            "5\n",
            "5.0\n"
          ]
        }
      ],
      "source": [
        "n_entero=5\n",
        "print(n_entero)           # n_entero = 5\n",
        "print(float(n_entero))\n",
        "\n"
      ]
    },
    {
      "cell_type": "markdown",
      "metadata": {
        "id": "UEki227Ti5mE"
      },
      "source": [
        "\n",
        "Algunos nombre de variables estan protegidos. Es decir, *no podemos usarlos como nombres de variables y asginarles un valor*.\n",
        "\n",
        "Por Ejemplo:\n"
      ]
    },
    {
      "cell_type": "code",
      "execution_count": null,
      "metadata": {
        "id": "7vD84ohCi5mF"
      },
      "outputs": [],
      "source": [
        "True = 3  # True es un nombre protegido, por lo cual se generara un error."
      ]
    },
    {
      "cell_type": "markdown",
      "metadata": {
        "id": "1XcFYV3ri5mF"
      },
      "source": [
        "Sólo algunos nombres (o palabras) están protegidos en Python, debemos tener cuidado.\n",
        "Las \"reglas basicas\" para nombrar variables para nombrar variables, son dependientes del lenguaje y del estilo de programación.\n",
        "Aquí mencionamos algunas reglas basicas:\n",
        "\n",
        "\n",
        "- asegurarse de no repetir nombres.\n",
        "- solo usar un caracter para las variable que no son importantes.\n",
        "- usar nombres especificos para las variables que son importantes.\n",
        "- no usar nombre se variables muy largos.\n",
        "\n",
        "Finalmente, ejecutando el código a continuación, podemos ver la lista de *nombres protegidos* de Python y la lista de *funciones pre-definidas* en Python.\n"
      ]
    },
    {
      "cell_type": "code",
      "execution_count": null,
      "metadata": {
        "id": "Cn2UqcPTi5mG"
      },
      "outputs": [],
      "source": [
        "import keyword\n",
        "for x in keyword.kwlist:\n",
        "    print(x,end=\" - \") #Esta es la lista de nombres (o palabras) protegidas.\n",
        "print()\n",
        "print()\n",
        "import builtins\n",
        "for x in  dir(builtins): #Funciones provistas por Python (built-in functions).\n",
        "    print (x, end= \" - \")"
      ]
    },
    {
      "cell_type": "markdown",
      "metadata": {
        "id": "1u1t4dwpi5mG"
      },
      "source": [
        "# Algunas reglas para escribir Sentencias en Python.\n",
        "\n",
        "\n",
        "Todos los lenguajes de programación requieren de un gramatica estricta. En general, cuando comentemos un error, directamente obtendremos un mensaje de error, en muy pocos casos, el programa continuara y generalmente generando \"peores\" errores. Debemos recordar que la gramatica de Python forzada para mejorar la legibilidad del codigo fuente.\n",
        "\n",
        "En Python la ejecución de un archivo $\\textit{.py}$ ejecutara cada linea del archivo, una luego de la otra."
      ]
    },
    {
      "cell_type": "markdown",
      "metadata": {
        "id": "Wy3Hz4bZi5mG"
      },
      "source": [
        "**Regla 1.** Como ya hemos visto, para terminar una linea de instrucciones (comandos) debemos pasar a la linea siguiente, i.e. Python utiliza el salto de linea (otros lenguajes terminan los comandos utilizando symbolos como '<code>;</code>', '<code>:</code>', '<code>.</code>', etc...)\n",
        "\n",
        "*El salto de linea tiene un significado especial en Python*. Por ello, es *imposible* escribir dos comandos en la misma linea."
      ]
    },
    {
      "cell_type": "code",
      "execution_count": null,
      "metadata": {
        "id": "lD3wzW2oi5mJ"
      },
      "outputs": [],
      "source": [
        "a=3  b=2 #Error"
      ]
    },
    {
      "cell_type": "code",
      "execution_count": null,
      "metadata": {
        "id": "yBWND_eTi5mK"
      },
      "outputs": [],
      "source": [
        "a=3\n",
        "b=2\n",
        "a,b = 3,2"
      ]
    },
    {
      "cell_type": "markdown",
      "metadata": {
        "id": "dflslH5ti5mK"
      },
      "source": [
        "En el siguiente ejemplo, escribimos una linea de codigo correcta. Sin embargo, es muy larga y dificulta la correcta lectura del programa."
      ]
    },
    {
      "cell_type": "code",
      "execution_count": 20,
      "metadata": {
        "id": "a2221cuci5mL",
        "outputId": "2d7591f3-28f1-4f59-a2aa-834441022705",
        "colab": {
          "base_uri": "https://localhost:8080/"
        }
      },
      "outputs": [
        {
          "output_type": "stream",
          "name": "stdout",
          "text": [
            "Lorem ipsum dolor sit amet, consectetur adipiscing elit, sed do eiusmod tempor incididunt ut labore et dolore magna aliqua. Ut enim ad minim veniam, quis nostrud exercitation ullamco laboris nisi ut aliquip ex ea commodo consequat. Duis aute irure dolor in reprehenderit in voluptate velit esse cillum dolore eu fugiat nulla pariatur. Excepteur sint occaecat cupidatat non proident, sunt in culpa qui officia deserunt mollit anim id est laborum.\n"
          ]
        }
      ],
      "source": [
        "print('Lorem ipsum dolor sit amet, consectetur adipiscing elit, sed do eiusmod tempor incididunt ut labore et dolore magna aliqua. Ut enim ad minim veniam, quis nostrud exercitation ullamco laboris nisi ut aliquip ex ea commodo consequat. Duis aute irure dolor in reprehenderit in voluptate velit esse cillum dolore eu fugiat nulla pariatur. Excepteur sint occaecat cupidatat non proident, sunt in culpa qui officia deserunt mollit anim id est laborum.')"
      ]
    },
    {
      "cell_type": "markdown",
      "metadata": {
        "id": "pT8WDLCMi5mL"
      },
      "source": [
        "La solución inmediata seria pasar a la siguiente linea. Pero como los saltos de linea tienen un significado estructural, el interprete entiende la primer linea de comandos como incompleta generando un error."
      ]
    },
    {
      "cell_type": "code",
      "execution_count": null,
      "metadata": {
        "id": "xfIOKebAi5mM"
      },
      "outputs": [],
      "source": [
        "print('Lorem ipsum dolor sit amet, consectetur adipiscing elit, sed do eiusmod tempor incididunt\n",
        "     ut labore et dolore magna aliqua. Ut enim ad minim veniam, quis nostrud exercitation ullamco    #\n",
        "      laboris nisi ut aliquip ex ea commodo consequat. Duis aute irure dolor in reprehenderit        # Error\n",
        "      in voluptate velit esse cillum dolore eu fugiat nulla pariatur. Excepteur sint occaecat        #\n",
        "      cupidatat non proident, sunt in culpa qui officia deserunt mollit anim id est laborum.')"
      ]
    },
    {
      "cell_type": "markdown",
      "metadata": {
        "id": "vJUA82eci5mM"
      },
      "source": [
        "**Regla 2.** La forma que nos provee Python para lidear con esto, es omitir el salto de linea añadiendo la barra *'\\'* antes del salto de linea. Debemos tener en cuenta, que al utilizar la barra, todo lo que este despues de ella no será considerado (como si estuviera comentado, ver siguiente)."
      ]
    },
    {
      "cell_type": "code",
      "execution_count": 21,
      "metadata": {
        "id": "rulL0wM5i5mM",
        "outputId": "9e65ffe2-3975-4ac8-9704-76f26f876e00",
        "colab": {
          "base_uri": "https://localhost:8080/"
        }
      },
      "outputs": [
        {
          "output_type": "stream",
          "name": "stdout",
          "text": [
            "Lorem ipsum dolor sit amet, consectetur adipiscing elit, sed do eiusmod tempor incididunt ut labore et doloremagna aliqua. Ut enim ad minim veniam, quis nostrud exercitation ullamco laboris nisi ut aliquip ex ea commodo consequat. Duis aute irure dolor in reprehenderitin voluptate velit esse cillum dolore eu fugiat nulla pariatur. Excepteur sint occaecat cupidatat non proident,sunt in culpa qui officia deserunt mollit anim id est laborum.\n"
          ]
        }
      ],
      "source": [
        "print('Lorem ipsum dolor sit amet, consectetur adipiscing elit, sed do eiusmod tempor incididunt ut labore et dolore\\\n",
        "magna aliqua. Ut enim ad minim veniam,\\\n",
        " quis nostrud exercitation ullamco \\\n",
        "laboris nisi ut aliquip ex ea commodo consequat. Duis aute irure dolor in reprehenderit\\\n",
        "in voluptate velit esse cillum dolore eu fugiat nulla pariatur. \\\n",
        "Excepteur sint occaecat cupidatat non proident,\\\n",
        "sunt in culpa qui officia deserunt mollit anim id est laborum.')"
      ]
    },
    {
      "cell_type": "markdown",
      "metadata": {
        "id": "9IJE76Ozi5mN"
      },
      "source": [
        "**Regla 3.** Para añadir comentarios en el codigo fuente (mejora la legibilidad del programa) utilizamos el symbolo numeral <code>#</code>. Neutraliza todo lo que este escrito hasta el salto de linea. Python no provee ninguna facilidad para escribir comentarios largos, debemos escribir el symbolo numeral en cada linea donde se extiende el comentario. Una buena practica para mejorar la legibilidad de los comentarios largos, es no escribir codigo referido al comentario durante la extensión del mismo."
      ]
    },
    {
      "cell_type": "code",
      "execution_count": null,
      "metadata": {
        "id": "1uUInQEui5mN"
      },
      "outputs": [],
      "source": [
        "a=1 # Asignamos 1 a la variable a\n",
        "\n",
        "a=1 # Re-asignamos el valor de a, podriamos\n",
        "    # seguir escribiendo la finalidad de\n",
        "    # esta re-asignación, o continuar\n",
        "    # ecribiendo sobre la instrucción a=1.\n",
        "\n",
        "a=1 # Nuevo Comentario."
      ]
    },
    {
      "cell_type": "markdown",
      "metadata": {
        "id": "OqeT-uIui5mN"
      },
      "source": [
        "**Regla 4.** *Python es un lenguaje de programación indentado*. Esto significa que todas las lineas con comandos comienzan en el mismo lugar tienen el mismo *'status'* dentro de la lógica del programa. En otras palabras, *todos los espacios al comienzo de una linea tienen un significado* (excepto cuando usamos comentarios *'<code>#</code>'* )."
      ]
    },
    {
      "cell_type": "code",
      "execution_count": null,
      "metadata": {
        "id": "qlb60i67i5mN"
      },
      "outputs": [],
      "source": [
        "2+3 # Funciona sin problemas"
      ]
    },
    {
      "cell_type": "code",
      "execution_count": null,
      "metadata": {
        "id": "Hqy32wc2i5mO"
      },
      "outputs": [],
      "source": [
        "     3+2 # Funciona sin problemas"
      ]
    },
    {
      "cell_type": "code",
      "execution_count": 22,
      "metadata": {
        "id": "sB7_4Jd5i5mO",
        "outputId": "97b90ad3-c80c-451b-c2ce-e6856c9979cd",
        "colab": {
          "base_uri": "https://localhost:8080/",
          "height": 106
        }
      },
      "outputs": [
        {
          "output_type": "error",
          "ename": "IndentationError",
          "evalue": "unexpected indent (<ipython-input-22-a101be971c66>, line 2)",
          "traceback": [
            "\u001b[0;36m  File \u001b[0;32m\"<ipython-input-22-a101be971c66>\"\u001b[0;36m, line \u001b[0;32m2\u001b[0m\n\u001b[0;31m    3+2 # Aquí la primera y segunda linea deben\u001b[0m\n\u001b[0m    ^\u001b[0m\n\u001b[0;31mIndentationError\u001b[0m\u001b[0;31m:\u001b[0m unexpected indent\n"
          ]
        }
      ],
      "source": [
        "2+3\n",
        " 3+2 # Aquí la primera y segunda linea deben\n",
        "     # tener la misma indentación, porque no hay cambio\n",
        "     # en el flujo del programa como:\n",
        "     # ciclos, condicionales, definiciones, etc ..."
      ]
    },
    {
      "cell_type": "markdown",
      "metadata": {
        "id": "ZjzbDHk4i5mO"
      },
      "source": [
        "## Decisión - Condición\n",
        "\n",
        "La diferentes palabras reservadas de la instrucción condicional son: <code>if</code>, <code>elif</code> y <code>else</code>. Para utilizar las instrucciones condicionales, debemos usar los dos puntos **'<code>:</code>'**, lo cual indicará el bloque de código a ejecutar en cada caso."
      ]
    },
    {
      "cell_type": "code",
      "execution_count": null,
      "metadata": {
        "id": "oPvKbHoFi5mO"
      },
      "outputs": [],
      "source": [
        "if  0 == 0:\n",
        "    print('Problem')\n",
        "else:\n",
        "    print('No Problem')"
      ]
    },
    {
      "cell_type": "code",
      "execution_count": null,
      "metadata": {
        "id": "inCY_HGmi5mQ"
      },
      "outputs": [],
      "source": [
        "# Version de una linea.\n",
        "\n",
        "print('Problem') if  0 == 0 else print('No Problem')"
      ]
    },
    {
      "cell_type": "markdown",
      "metadata": {
        "id": "hw_I9pGAi5mQ"
      },
      "source": [
        "Cuando tenemos más de una condición anidada, podemos utilizar <code>elif</code> para indicar el <code>else</code> y la nueva condición del siguiente <code>if</code>."
      ]
    },
    {
      "cell_type": "code",
      "execution_count": null,
      "metadata": {
        "id": "CFAFyGvWi5mR"
      },
      "outputs": [],
      "source": [
        "n = int(input(\"ingrese un numero: \"))\n",
        "\n",
        "if n > 0: # Si 0 == 1, entonces:\n",
        "    print('n positivo')# No olvidarse de la indentación  0 == 1 Verdadero\n",
        "                # En algunos IDE la indentación es automatica.\n",
        "else:\n",
        "    if n == 0 :\n",
        "        print(\"n es cero\")\n",
        "    else:\n",
        "        print('n negativo')  # 0 == 1 Falso\n",
        "\n",
        "# EQUIVALENTE\n",
        "\n",
        "if n > 0: # Si 0 == 1, entonces:\n",
        "    print('n positivo')# No olvidarse de la indentación  0 == 1 Verdadero\n",
        "                # En algunos IDE la indentación es automatica.\n",
        "elif n == 0 :\n",
        "    print(\"n es cero\")\n",
        "else:\n",
        "    print('n negativo')  # 0 == 1 Falso"
      ]
    },
    {
      "cell_type": "code",
      "execution_count": null,
      "metadata": {
        "id": "KGrDXxYEi5mR"
      },
      "outputs": [],
      "source": [
        "if 0==1:\n",
        "    print('Problem')\n",
        "    else: #\"if\", \"elif\", y \"else\" deben tener la misma indentación.\n",
        "    print('No Problem')"
      ]
    },
    {
      "cell_type": "code",
      "execution_count": null,
      "metadata": {
        "id": "D8wdRq5ii5mR"
      },
      "outputs": [],
      "source": [
        "if 0==1:\n",
        "    print('Problem')\n",
        "\n",
        "    else:                  # Error de Indentacion\n",
        "        print('No Problem')"
      ]
    },
    {
      "cell_type": "code",
      "execution_count": null,
      "metadata": {
        "id": "eucmi2gki5mR"
      },
      "outputs": [],
      "source": [
        "# Un ejemplo de como usar multiples instrucciones if.\n",
        "\n",
        "n = int(input(\"Ingrese un número  :  \"))  # Ingresamos el número n\n",
        "\n",
        "if n%7==0:     # El mismo nivel de indentación para el \"if\", \"elif\", y \"else\".\n",
        "    print(n, \"el residuo es 0 modulo 7\")\n",
        "elif n%7==1:\n",
        "    print(n, \"el residuo es 1 modulo 7\")\n",
        "elif n%7==2:\n",
        "    print(n, \"el residuo es 2 modulo 7\")\n",
        "elif n%7==3:\n",
        "    print(n, \"el residuo es 3 modulo 7\")\n",
        "elif n%7==4:\n",
        "    print(n, \"el residuo es 4 modulo 7\")\n",
        "elif n%7==5:\n",
        "    print(n, \"el residuo es 5 modulo 7\")\n",
        "else:\n",
        "    print(n, \"el residuo es 6 modulo 7\")\n",
        "\n",
        "# Manera más corta de obtener el mismo resultado.\n",
        "n=int(input(\"Ingrese un número : \"))\n",
        "print(n,\" is congruent to \",n%7,\"modulo 7\")\n",
        "\n"
      ]
    },
    {
      "cell_type": "code",
      "execution_count": null,
      "metadata": {
        "id": "My5fVbA8i5mS"
      },
      "outputs": [],
      "source": [
        "# Ejemplo de instrucciones condicionales anidadas.\n",
        "\n",
        "n = int(input(\"Ingresar un número entre 8 y 49 para testear si es un número primo : \"))\n",
        "\n",
        "isprime=True\n",
        "\n",
        "if n<7 and n > 49:\n",
        "    print(\"Impossible! el número no esta entre 8 y 49.\")\n",
        "#elif n>49:\n",
        "#    print(\"Impossible! el número es demaciado grande.\")\n",
        "else:\n",
        "    if 2*(n//2) == n: # n = 15 ; n//2 = 7 ;  7 * 2 = 14\n",
        "        print(\"No es primo, \", n,\" es divisible por 2.\") # Tenemos tres niveles de indentación.\n",
        "        isprime=False\n",
        "    elif 3*(n//3)==n:\n",
        "        print(\"Not es primo, \", n,\" es divisible por 3.\")\n",
        "        isprime=False\n",
        "    elif 5*(n//5)==n:\n",
        "        print(\"Not es primo, \", n,\" es divisible por 5.\")\n",
        "        isprime=False\n",
        "    elif 7*(n//7)==n:\n",
        "        print(\"Not es primo, \",n,\" es divisible por 7.\")\n",
        "        isprime=False\n",
        "    else:\n",
        "        print(n,\" es primo.\")"
      ]
    },
    {
      "cell_type": "code",
      "execution_count": null,
      "metadata": {
        "id": "ctzWOI41i5mS"
      },
      "outputs": [],
      "source": [
        "n = int(input(\"Ingresar un número entre 8 y 49 para testear si es un número primo : \"))\n",
        "\n",
        "isprime=True\n",
        "\n",
        "if n<7 :\n",
        "    print(\"Impossible! el número es muy pequeño.\")\n",
        "elif n>49:\n",
        "    print(\"Impossible! el número es demaciado grande.\")\n",
        "else:\n",
        "    if 2*(n//2) == n: # n = 15 ; n//2 = 7 ;  7 * 2 = 14\n",
        "        print(\"No es primo, \", n,\" es divisible por 2.\") # Tenemos tres niveles de indentación.\n",
        "        isprime=False\n",
        "    elif 3*(n//3)==n:\n",
        "        print(\"Not es primo, \", n,\" es divisible por 3.\")\n",
        "        isprime=False\n",
        "    elif 5*(n//5)==n:\n",
        "        print(\"Not es primo, \", n,\" es divisible por 5.\")\n",
        "        isprime=False\n",
        "    elif 7*(n//7)==n:\n",
        "        print(\"Not es primo, \",n,\" es divisible por 7.\")\n",
        "        isprime=False\n",
        "    else:\n",
        "        print(n,\" es primo.\")"
      ]
    },
    {
      "cell_type": "code",
      "execution_count": null,
      "metadata": {
        "id": "LhOe0rQJi5mS"
      },
      "outputs": [],
      "source": [
        "n = int(input(\"Ingresar un número natural entre 8 y 49: \"))\n",
        "\n",
        "defect = 0\n",
        "\n",
        "if n<7 :\n",
        "    print(\"Impossible! el número no esta entre 8 y 49.\")\n",
        "elif n>49:\n",
        "    print(\"Impossible! el número es demaciado grande.\")\n",
        "else:\n",
        "    if 2*(n//2) == n:\n",
        "        print( \"es divisible por 2.\") # Tenemos tres niveles de indentación.\n",
        "        defect += 2\n",
        "    elif 3*(n//3)==n:\n",
        "        print(\" es divisible por 3.\")\n",
        "        defect += 3\n",
        "    elif 5*(n//5)==n:\n",
        "        print(\" es divisible por 5.\")\n",
        "        defect += 5\n",
        "    elif 7*(n//7)==n:\n",
        "        print(\"es divisible por 7.\")\n",
        "        defect += 7\n",
        "    else:\n",
        "        print(\" es defectivo?? \", n > defect )"
      ]
    },
    {
      "cell_type": "markdown",
      "metadata": {
        "id": "MK4Kh-S3i5mS"
      },
      "source": [
        "### Ejercicio:\n",
        "\n",
        "Se necesita realizar un programa para asistir a un empleado de un Cine (o Teatro). El empleado esta encargado de enviar a las personas a la sala correcta.\n",
        "\n",
        "Una vez comprada la entrada la audiencia se dirige al empleado, el cual, en base al número que figura en la entrada (3 dígitos) los envía a la sala correspondiente. Si la entrada es par, el empleado los dirige a la Sala 1. Cuando la entrada es impar los dirige a la sala 2.\n",
        "\n",
        "Recientemente, por un error en la impresión de las entradas han salido muchas con el número  000 , en este caso el empleado debe comunicarle al usuario que se dirija a la administraci'on para obtener una nueva entrada."
      ]
    },
    {
      "cell_type": "markdown",
      "metadata": {
        "id": "eT1s9hIti5mT"
      },
      "source": [
        "#### Solución:"
      ]
    },
    {
      "cell_type": "code",
      "execution_count": null,
      "metadata": {
        "id": "zDgrF28wi5mT"
      },
      "outputs": [],
      "source": [
        "n = int(input(\"Ingresar el número de su entrada: \"))\n",
        "\n",
        "if n < 0 or n>999 :\n",
        "    print(\"Entrada no valida.\")\n",
        "else:\n",
        "    if n == 0 :\n",
        "        print(\"Por favor consiga otro ticket.\")\n",
        "    elif 2*(n//2) == n:\n",
        "        print( \"Sala 1\") # Tenemos tres niveles de indentación.\n",
        "    else:\n",
        "        print(\"Sala 2\")\n"
      ]
    },
    {
      "cell_type": "markdown",
      "metadata": {
        "id": "_2O3BA03i5mT"
      },
      "source": [
        "# Uso de ciclos while.\n",
        "\n",
        "Un bucle <code>while</code> se representa de la siguiete manera:"
      ]
    },
    {
      "cell_type": "code",
      "execution_count": 23,
      "metadata": {
        "id": "9AMQAWIGi5mU",
        "outputId": "3b849eeb-af6c-4418-a12c-ceaae19cbb81",
        "colab": {
          "base_uri": "https://localhost:8080/"
        }
      },
      "outputs": [
        {
          "output_type": "stream",
          "name": "stdout",
          "text": [
            "Contaremos hasta : 4\n",
            "1 - 2 - 3 - 4 - "
          ]
        }
      ],
      "source": [
        "N=int(input(\"Contaremos hasta : \"))\n",
        "p=0\n",
        "while p < N: # Definimos la condición sobre la que ejecutara el ciclo.\n",
        "    p+=1   # Hacemos algo dentro del ciclo.\n",
        "    print(p,end=\" - \") # Hacemos otra cosa."
      ]
    },
    {
      "cell_type": "markdown",
      "metadata": {
        "id": "ZpsE1qgri5mU"
      },
      "source": [
        "Al igual que para el *condicional*, debemos terminar la linea con la instrucción <code>while</code> con '<code>:</code>', luego debemos indentar el bloque de comandos que será repetido en el ciclo.  \n",
        "\n",
        "En general, cuando definimos un ciclo <code>while</code>, debemos asegurarnos que el ciclo termine en algún momento. En caso de omitir una terminación segura del ciclo, el programa nunca ejecutara los comandos que esten a continuación del ciclo, para retomar el control, deberemos reiniciar Python.  \n"
      ]
    },
    {
      "cell_type": "markdown",
      "metadata": {
        "collapsed": true,
        "id": "JwtOwC3Ai5mU"
      },
      "source": [
        "# Ciclos \"for\"\n",
        "\n",
        "Cuando debemos realizar una tarea repetitiva, es muy conveniente utilizar los ciclos <code>for</code>. La forma estandard de escribirlos es la siguiente:\n",
        "\n",
        "<code>for variable in 'contenedor':</code>\n",
        "\n",
        "seguido de un salto de linea y luego las instrucciones a ser repetidas. Como cualquier instrucción con <code>:</code> , necesitaremos indentar.\n",
        "\n",
        "<code>variable</code> es cualquier nombre de variable (no protegido), y <code>'contenedor'</code> es un objeto que contiene multiples valores (i.e. lista, conjunto, diccionario, etc)."
      ]
    },
    {
      "cell_type": "code",
      "execution_count": 24,
      "metadata": {
        "id": "-J-iSTkji5mV",
        "outputId": "a3ddf5e4-4193-492c-f848-5011d128262b",
        "colab": {
          "base_uri": "https://localhost:8080/"
        }
      },
      "outputs": [
        {
          "output_type": "stream",
          "name": "stdout",
          "text": [
            "0 1 2 3 4 5 6 7 8 9 10 11 12 13 14 15 16 17 18 19 "
          ]
        }
      ],
      "source": [
        "# Ejemplo de un ciclo\n",
        "for x in range(0,20):\n",
        "    print(x,end=\" \")"
      ]
    },
    {
      "cell_type": "markdown",
      "metadata": {
        "id": "pMrBi8tii5mV"
      },
      "source": [
        "Debemoms tener cuidado que <code>range</code> no nos retorna un tipo de datos conveninete. Igualmente puede ser (o será) convertido al tipo lista. Si utilizaramoms el tipo lista directamente, la performance se vera reducida.\n"
      ]
    },
    {
      "cell_type": "code",
      "execution_count": 25,
      "metadata": {
        "id": "V7UMQQNJi5mV",
        "outputId": "63a8f06f-2d4b-414c-f7aa-727a9024b3b7",
        "colab": {
          "base_uri": "https://localhost:8080/"
        }
      },
      "outputs": [
        {
          "output_type": "stream",
          "name": "stdout",
          "text": [
            "0 1 2 3 4 5 6 7 8 9 10 11 12 13 14 15 16 17 18 19 "
          ]
        }
      ],
      "source": [
        "# Comparación con los ciclos \"mientras\"\n",
        "x=0\n",
        "while x<20:\n",
        "    print(x,end=\" \")\n",
        "    x+=1"
      ]
    },
    {
      "cell_type": "code",
      "execution_count": 26,
      "metadata": {
        "id": "w4ySSaSni5mW",
        "outputId": "d0e2a648-b9f7-4d79-c579-e4b78542d969",
        "colab": {
          "base_uri": "https://localhost:8080/"
        }
      },
      "outputs": [
        {
          "output_type": "stream",
          "name": "stdout",
          "text": [
            "0 1 2 \n",
            "A l g o r i t m o s E s t r u c t u r a s D a t o s \n",
            "A l g o r i t m o s E s t r u c t u r a s D a t o s "
          ]
        }
      ],
      "source": [
        "# Uso de ciclos for, para distintos tipos de contenedores.\n",
        "\n",
        "for x in {0,1,2}: # Conjunto\n",
        "    print(x,end=' ')\n",
        "print('')\n",
        "for x in 'AlgoritmosEstructurasDatos': # Strings\n",
        "     print(x,end=' ')\n",
        "print('')\n",
        "for x in list('AlgoritmosEstructurasDatos'): # Listas\n",
        "     print(x,end=' ')\n"
      ]
    },
    {
      "cell_type": "markdown",
      "metadata": {
        "id": "9fxXIsezi5mW"
      },
      "source": [
        "Algunas veces, cuando recorremos una lista <code>L</code> utilizando un ciclo <code>for</code>  nos gustaría poder ver los valores y los indices.\n"
      ]
    },
    {
      "cell_type": "code",
      "execution_count": 27,
      "metadata": {
        "id": "cvmruqrVi5mW",
        "outputId": "bf212aa0-eef2-439b-825e-7ba1d556d05b",
        "colab": {
          "base_uri": "https://localhost:8080/"
        }
      },
      "outputs": [
        {
          "output_type": "stream",
          "name": "stdout",
          "text": [
            "L[0]=1\n",
            "L[1]=5\n",
            "L[2]=2\n",
            "L[3]=caballo\n",
            "L[4]=3\n"
          ]
        }
      ],
      "source": [
        "# Un modo sencillo de hacerlo.\n",
        "L = ['1','5','2','caballo','3']\n",
        "for index in range(0,len(L)):\n",
        "    print(\"L[{}]={}\".format(index,L[index]))"
      ]
    },
    {
      "cell_type": "markdown",
      "metadata": {
        "id": "Hm9khWURi5mW"
      },
      "source": [
        "También podemos utilizar la siguiente notación reducida <code>for index,variable in L: </code>\n",
        "\n",
        "En este caso, tendremos <code>L[index]=variable</code> durante la ejecición del ciclo."
      ]
    },
    {
      "cell_type": "code",
      "execution_count": 28,
      "metadata": {
        "id": "RuUWali_i5mW",
        "outputId": "2560a738-4b2c-45d9-feaf-0de3e4c706c4",
        "colab": {
          "base_uri": "https://localhost:8080/"
        }
      },
      "outputs": [
        {
          "output_type": "stream",
          "name": "stdout",
          "text": [
            "L[0]=1\n",
            "L[1]=5\n",
            "L[2]=2\n",
            "L[3]=caballo\n",
            "L[4]=3\n"
          ]
        }
      ],
      "source": [
        "for  index,variable in enumerate(L): # Usamos la funcion enumarate para acceder a las tuplas (i,L[i])\n",
        "    print(\"L[{}]={}\".format(index,variable))"
      ]
    },
    {
      "cell_type": "markdown",
      "metadata": {
        "id": "DXTMWw67i5mX"
      },
      "source": [
        "Podemos interrumpir el ciclo <code>for</code> (respectivametne para <code>while</code>) utilizando el commando <code>break</code>."
      ]
    },
    {
      "cell_type": "code",
      "execution_count": 29,
      "metadata": {
        "id": "fBnbSMVTi5mX",
        "scrolled": true,
        "outputId": "d26fc441-f358-4729-faf7-0d56cfc17914",
        "colab": {
          "base_uri": "https://localhost:8080/"
        }
      },
      "outputs": [
        {
          "output_type": "stream",
          "name": "stdout",
          "text": [
            "0 1 2 3 4 5 6 "
          ]
        }
      ],
      "source": [
        "for x in range(0,9):\n",
        "    if x>6:\n",
        "        break\n",
        "    print(x,end=\" \")"
      ]
    },
    {
      "cell_type": "code",
      "execution_count": 30,
      "metadata": {
        "id": "Wxuc3mb0i5mX",
        "outputId": "dbafde39-cac6-4984-bbd7-c363d80d98a7",
        "colab": {
          "base_uri": "https://localhost:8080/"
        }
      },
      "outputs": [
        {
          "output_type": "stream",
          "name": "stdout",
          "text": [
            "0 1 2 3 4 5 6 10 11 12 13 14 15 16 20 21 22 23 24 25 26 30 31 32 33 34 35 36 40 41 42 43 44 45 46 50 51 52 53 54 55 56 60 61 62 63 64 65 66 70 71 72 73 74 75 76 80 81 82 83 84 85 86 "
          ]
        }
      ],
      "source": [
        "for y in range(0,9):\n",
        "    for x in range(0,9):\n",
        "        if x>6:\n",
        "            break # Solo interrumpimos el ciclo en \"donde estamos\".\n",
        "        print(10*y+x,end=\" \")"
      ]
    },
    {
      "cell_type": "markdown",
      "metadata": {
        "id": "XDBDRg3li5mX"
      },
      "source": [
        "# Algunas funciones útiles de Python - <code>print</code>, <code>input</code>, <code>help</code>.\n",
        "\n",
        "En Python, una función es invocada de la siguiente forma <code>funcion(variable_1, ..., variable_r)</code>\n",
        "\n",
        "Ya hemos visto angunas funciones como <code>print, type, int, ...</code>.\n",
        "\n",
        "Hemos visto una lista de las funciones provistas por Python (*built-in functions*). Luego, comenzaremos a definir nuestras propias funciones. Por el momento veremos algunos ejemplos útiles.\n"
      ]
    },
    {
      "cell_type": "markdown",
      "metadata": {
        "id": "w3RUGfXMi5mY"
      },
      "source": [
        "## La función print\n",
        "\n",
        "La función <code>print</code> puede aceptar muchos argumentos de entrada. Los argumentos, ya sean valores o nombres de variables, se imprimiran en el mismo orden indicado, separados por un espacio.\n",
        "\n",
        "Por defecto la función <code>print</code> agrega un salto de linea al finalalizar la impresion de los datos.\n"
      ]
    },
    {
      "cell_type": "code",
      "execution_count": null,
      "metadata": {
        "id": "E0Io9ry4i5mY"
      },
      "outputs": [],
      "source": [
        "print(3) # Imprime el número (entero) 3.\n",
        "print('dies irae') # Imprime el string dies irae\n",
        "print(True) # Imprime True"
      ]
    },
    {
      "cell_type": "code",
      "execution_count": null,
      "metadata": {
        "id": "ZwaGrsFWi5mY"
      },
      "outputs": [],
      "source": [
        "x = 2\n",
        "print(x) # Imprime el valor de la variable y no el nombre."
      ]
    },
    {
      "cell_type": "code",
      "execution_count": 32,
      "metadata": {
        "id": "Kf6KeF3Ki5mY",
        "outputId": "1900a3ae-c240-42cd-96ba-cb63a6b01a57",
        "colab": {
          "base_uri": "https://localhost:8080/"
        }
      },
      "outputs": [
        {
          "output_type": "stream",
          "name": "stdout",
          "text": [
            "3 -- dies irae -- True * "
          ]
        }
      ],
      "source": [
        "print(3,'dies irae',True,sep=' -- ', end=\" * \")\n",
        "# podemos imprimir diferentes argumentos\n",
        "                          # en la misma linea"
      ]
    },
    {
      "cell_type": "code",
      "execution_count": null,
      "metadata": {
        "id": "HoAuII60i5mZ"
      },
      "outputs": [],
      "source": [
        "help(print)"
      ]
    },
    {
      "cell_type": "markdown",
      "metadata": {
        "id": "8_Y19t1Ei5mZ"
      },
      "source": [
        "Para cambiar el 'terminador' del commando <code>print</code>--que por defecto es \"<code>\\n</code>\" (barra n)--debemos añadir el argumento: <code>end=\"terminador\"</code>."
      ]
    },
    {
      "cell_type": "code",
      "execution_count": 33,
      "metadata": {
        "id": "Wr6dhZPIi5mZ",
        "outputId": "13ffc321-8965-4b9f-8062-c5517c68b6d2",
        "colab": {
          "base_uri": "https://localhost:8080/"
        }
      },
      "outputs": [
        {
          "output_type": "stream",
          "name": "stdout",
          "text": [
            "3*dies irae*True\n",
            "3\n",
            "dies irae  True\n"
          ]
        }
      ],
      "source": [
        "\n",
        "print(3,end=\"*\")            # Cambia el salto de linea por un * .\n",
        "print('dies irae',end=\"*\")  # Cambia el salto de linea por un * .\n",
        "print(True)                 # Imprime un salto de linea.\n",
        "print(3)           # Cambia el salto de linea por un espacio.\n",
        "print('dies irae',end=\"  \") # Cambia el salto de linea por un espacio.\n",
        "print(True)                 # Imprime un salto de linea."
      ]
    },
    {
      "cell_type": "markdown",
      "metadata": {
        "id": "7uPvEROai5mZ"
      },
      "source": [
        "## La función input\n",
        "\n",
        "La función <code>input</code> toma como argumento una cadena de caracteres. Luego, la consola del systema, escribe la cadena de caracteres y queda en espera a que el usuario introduzca algo con el teclado, lo cual sera el resultado devuelto por la funcion <code>input</code>.\n",
        "\n",
        "**El tipo del resultado es siempre una cadena de caracteres!!**"
      ]
    },
    {
      "cell_type": "code",
      "execution_count": 34,
      "metadata": {
        "id": "gkt82GHzi5ma",
        "outputId": "5e6a9f35-e9d9-40ef-f00e-51176648b763",
        "colab": {
          "base_uri": "https://localhost:8080/"
        }
      },
      "outputs": [
        {
          "output_type": "stream",
          "name": "stdout",
          "text": [
            "Por favor ingrese un número : 5\n",
            "5\n"
          ]
        }
      ],
      "source": [
        "n = input(\"Por favor ingrese un número : \")\n",
        "print(n)\n"
      ]
    },
    {
      "cell_type": "code",
      "execution_count": null,
      "metadata": {
        "id": "KL3M9D8zi5ma"
      },
      "outputs": [],
      "source": [
        "print(type(n)) # El tipo de la variable n es 'srt' y no 'int'.\n",
        "print(int(n) + 1)    # Aquí vemos que pasa cuando mezclamos distintos tipos de datos (algunos serán compatibles).\n"
      ]
    },
    {
      "cell_type": "markdown",
      "metadata": {
        "id": "amYic1gui5ma"
      },
      "source": [
        "## La Función help\n",
        "\n",
        "La función <code>help()</code> toma cualquier función predefinida en el lenguaje Python como argumento y nos muestra su codigo."
      ]
    },
    {
      "cell_type": "code",
      "execution_count": 35,
      "metadata": {
        "id": "xEcAe9qTi5ma",
        "outputId": "5a84c525-d80d-4c00-80bc-37ac2bf10dc3",
        "colab": {
          "base_uri": "https://localhost:8080/"
        }
      },
      "outputs": [
        {
          "output_type": "stream",
          "name": "stdout",
          "text": [
            "Help on built-in function print in module builtins:\n",
            "\n",
            "print(...)\n",
            "    print(value, ..., sep=' ', end='\\n', file=sys.stdout, flush=False)\n",
            "    \n",
            "    Prints the values to a stream, or to sys.stdout by default.\n",
            "    Optional keyword arguments:\n",
            "    file:  a file-like object (stream); defaults to the current sys.stdout.\n",
            "    sep:   string inserted between values, default a space.\n",
            "    end:   string appended after the last value, default a newline.\n",
            "    flush: whether to forcibly flush the stream.\n",
            "\n",
            "Help on method raw_input in module ipykernel.kernelbase:\n",
            "\n",
            "raw_input(prompt='') method of google.colab._kernel.Kernel instance\n",
            "    Forward raw_input to frontends\n",
            "    \n",
            "    Raises\n",
            "    ------\n",
            "    StdinNotImplementedError if active frontend doesn't support stdin.\n",
            "\n",
            "Help on _Helper in module _sitebuiltins object:\n",
            "\n",
            "class _Helper(builtins.object)\n",
            " |  Define the builtin 'help'.\n",
            " |  \n",
            " |  This is a wrapper around pydoc.help that provides a helpful message\n",
            " |  when 'help' is typed at the Python interactive prompt.\n",
            " |  \n",
            " |  Calling help() at the Python prompt starts an interactive help session.\n",
            " |  Calling help(thing) prints help for the python object 'thing'.\n",
            " |  \n",
            " |  Methods defined here:\n",
            " |  \n",
            " |  __call__(self, *args, **kwds)\n",
            " |      Call self as a function.\n",
            " |  \n",
            " |  __repr__(self)\n",
            " |      Return repr(self).\n",
            " |  \n",
            " |  ----------------------------------------------------------------------\n",
            " |  Data descriptors defined here:\n",
            " |  \n",
            " |  __dict__\n",
            " |      dictionary for instance variables (if defined)\n",
            " |  \n",
            " |  __weakref__\n",
            " |      list of weak references to the object (if defined)\n",
            "\n"
          ]
        }
      ],
      "source": [
        "help(print)\n",
        "help(input)\n",
        "help(help)"
      ]
    },
    {
      "cell_type": "markdown",
      "metadata": {
        "id": "JUCbA1xti5ma"
      },
      "source": [
        "# Recursos\n",
        "\n",
        "## Descargas\n",
        "-   Python : https://www.python.org\n",
        "-   Atom : https://atom.io (editor)\n",
        "-   Anaconda : https://www.anaconda.com/download/\n",
        "-   GNU Emacs : https://www.gnu.org/software/emacs/ (editor)\n"
      ]
    },
    {
      "cell_type": "markdown",
      "metadata": {
        "id": "E0jnYyfPi5mb"
      },
      "source": [
        "## Bibliografía.\n",
        "\n",
        "- [Joyanes, 2003] Joyanes Aguilar, L. (2003). Fundamentos de Programación; Algoritmos, Estructuras de Datos y Objetos (3a. ed.). Madrid: McGraw-Hill Interamericana.\n",
        "\n",
        "- [Aho et al., 1998] Aho, A. V., Hopcroft, J. E., & Ullman, J. D. (1998). Estructuras de datos y algoritmos.\n",
        "\n",
        "- [Drozdek, 2007] Drozdek, A. (2007). Estructura de Datos Y Algoritmos en Java. Cengage Learning Latin America.\n",
        "\n",
        "- [Brassard et al., 2008] Brassard, G., & Bratley, P. (2008). Fundamentos de algoritmia. Madrid: Pearson Prentice Hall.\n",
        "\n",
        "- [Heilman, 2010] Heileman,Gregory, L. (2010). Estructura de datos, algoritmos y programación orientada a objetos. La Habana: Editorial Félix Varela.\n",
        "\n",
        "- [Weiss, 2010] Weiss, M. A. (2010). Data structures & problem solving using Java. Boston: Pearson Education.\n",
        "\n",
        "- [Goodrich et al., 2018] Goodrich, M. T., Tamassia, R., & Goldwasser, M. H. (2018). Data structures and algorithms in Python.\n",
        "\n",
        "- [Lee et al., 2015] Lee, K. D., & Hubbard, S. (2015). Data Structures and Algorithms with Python. Cham: Springer International Publishing.\n",
        "\n",
        "- [Cormen et al., 2017] Cormen, T. H., Leiserson, C. E., Rivest, R. L., & Stein, C. (2017). Introduction to algorithms.\n",
        "\n",
        "- [Gamma et al., 1995] Gamma, E., Helm, R., Johnson, R. E., & Vlissides, J. (1995). Design patterns: Elements of reusable object-oriented software. Reading, Mass: Addison-Wesley.\n",
        "\n",
        "\n",
        "(La mayoria de los libros mencionados en ingles, tienen al menos una edición en español)"
      ]
    }
  ],
  "metadata": {
    "anaconda-cloud": {},
    "celltoolbar": "Slideshow",
    "colab": {
      "provenance": [],
      "include_colab_link": true
    },
    "kernelspec": {
      "display_name": "Python 3",
      "language": "python",
      "name": "python3"
    },
    "language_info": {
      "codemirror_mode": {
        "name": "ipython",
        "version": 3
      },
      "file_extension": ".py",
      "mimetype": "text/x-python",
      "name": "python",
      "nbconvert_exporter": "python",
      "pygments_lexer": "ipython3",
      "version": "3.8.9"
    },
    "nbpresent": {
      "slides": {
        "6fd7db55-fcb2-4f93-abe8-3b8b8774e3a1": {
          "id": "6fd7db55-fcb2-4f93-abe8-3b8b8774e3a1",
          "prev": null,
          "regions": {
            "8a501b0f-e9cf-4c6c-8c59-08ef5391405a": {
              "attrs": {
                "height": 0.8,
                "width": 0.8,
                "x": 0.1,
                "y": 0.1
              },
              "content": {
                "cell": "40a7701e-a37f-426c-8fc9-f65b525a98ac",
                "part": "whole"
              },
              "id": "8a501b0f-e9cf-4c6c-8c59-08ef5391405a"
            }
          }
        }
      },
      "themes": {}
    },
    "vscode": {
      "interpreter": {
        "hash": "978c24f93c4c2a30777431976816ca704cb2b770ace170cd9b73c82027942831"
      }
    }
  },
  "nbformat": 4,
  "nbformat_minor": 0
}